{
 "cells": [
  {
   "cell_type": "code",
   "execution_count": 20,
   "metadata": {},
   "outputs": [],
   "source": [
    "import os\n",
    "import psycopg2\n",
    "from psycopg2 import Error\n",
    "from dotenv import load_dotenv\n",
    "from contextlib import contextmanager\n",
    "import pandas as pd\n",
    "import numpy as np\n",
    "from sqlalchemy import create_engine\n",
    "\n"
   ]
  },
  {
   "cell_type": "code",
   "execution_count": 23,
   "metadata": {},
   "outputs": [],
   "source": [
    "db_params = {\n",
    "    'host': os.getenv('DB_HOST'),\n",
    "    'database': os.getenv('DB_NAME'),\n",
    "    'user': os.getenv('DB_USER'),\n",
    "    'password': os.getenv('DB_PASSWORD'),\n",
    "    'port': os.getenv('DB_PORT', '5432')\n",
    "}"
   ]
  },
  {
   "cell_type": "code",
   "execution_count": 16,
   "metadata": {},
   "outputs": [],
   "source": [
    "def test_db_connection():\n",
    "    \"\"\"Test database connection and return connection status\"\"\"\n",
    "    load_dotenv()\n",
    "    try:\n",
    "        # Connection parameters\n",
    "        conn_params = {\n",
    "            'host': os.getenv('DB_HOST', 'localhost'),\n",
    "            'database': os.getenv('DB_NAME'),\n",
    "            'user': os.getenv('DB_USER'),\n",
    "            'password': os.getenv('DB_PASSWORD'),\n",
    "            'port': os.getenv('DB_PORT', '5432')\n",
    "        }\n",
    "        \n",
    "        # Try to establish a connection\n",
    "        connection = psycopg2.connect(**conn_params)\n",
    "        \n",
    "        # Create a cursor and execute a simple query\n",
    "        cursor = connection.cursor()\n",
    "        cursor.execute('SELECT version();')\n",
    "        db_version = cursor.fetchone()\n",
    "        \n",
    "        print(\"Successfully connected to the database!\")\n",
    "        print(f\"PostgreSQL version: {db_version[0]}\")\n",
    "        \n",
    "        cursor.close()\n",
    "        return True, connection\n",
    "        \n",
    "    except Error as e:\n",
    "        print(f\"Error connecting to PostgreSQL database: {e}\")\n",
    "        return False, None\n",
    "        \n",
    "    except Exception as e:\n",
    "        print(f\"An error occurred: {e}\")\n",
    "        return False, None"
   ]
  },
  {
   "cell_type": "code",
   "execution_count": 21,
   "metadata": {},
   "outputs": [
    {
     "name": "stdout",
     "output_type": "stream",
     "text": [
      "Successfully connected to the database!\n",
      "PostgreSQL version: PostgreSQL 15.8 on x86_64-pc-linux-gnu, compiled by Debian clang version 12.0.1, 64-bit\n"
     ]
    }
   ],
   "source": [
    "connection = test_db_connection()"
   ]
  },
  {
   "cell_type": "code",
   "execution_count": 24,
   "metadata": {},
   "outputs": [],
   "source": [
    "engine = create_engine(f\"postgresql://{db_params['user']}:{db_params['password']}@{db_params['host']}:{db_params['port']}/{db_params['database']}\")\n"
   ]
  },
  {
   "cell_type": "code",
   "execution_count": null,
   "metadata": {},
   "outputs": [],
   "source": [
    "query = \"\"\"\n",
    "SELECT \n",
    "    table_schema,\n",
    "    table_name,\n",
    "    (SELECT count(*) FROM information_schema.columns c \n",
    "     WHERE c.table_schema=t.table_schema AND c.table_name=t.table_name) as column_count\n",
    "FROM information_schema.tables t\n",
    "WHERE table_schema NOT IN ('pg_catalog', 'information_schema')\n",
    "ORDER BY table_schema, table_name;\n",
    "\"\"\"\n",
    "\n",
    "df_tables = pd.read_sql(query, engine)\n",
    "df_tables"
   ]
  },
  {
   "cell_type": "code",
   "execution_count": 33,
   "metadata": {},
   "outputs": [],
   "source": [
    "# For ciudades\n",
    "df_ciudades = pd.read_sql(\"SELECT * FROM calculator.ciudades\", engine)\n",
    "\n",
    "# For dac\n",
    "df_dac = pd.read_sql(\"SELECT * FROM calculator.dac\", engine)\n",
    "\n",
    "# For estaciones\n",
    "df_estaciones = pd.read_sql(\"SELECT * FROM calculator.estaciones\", engine)\n",
    "\n",
    "# For geodata\n",
    "df_geodata = pd.read_sql(\"SELECT * FROM calculator.geodata\", engine)\n",
    "\n",
    "# For log\n",
    "df_log = pd.read_sql(\"SELECT * FROM calculator.log\", engine)\n",
    "\n",
    "# For municipios\n",
    "df_municipios = pd.read_sql(\"SELECT * FROM calculator.municipios\", engine)\n",
    "\n",
    "# For t1\n",
    "df_t1 = pd.read_sql(\"SELECT * FROM calculator.t1\", engine)\n",
    "\n",
    "# For tsb\n",
    "df_tsb = pd.read_sql(\"SELECT * FROM calculator.tsb\", engine)"
   ]
  },
  {
   "cell_type": "code",
   "execution_count": 34,
   "metadata": {},
   "outputs": [
    {
     "data": {
      "text/html": [
       "<div>\n",
       "<style scoped>\n",
       "    .dataframe tbody tr th:only-of-type {\n",
       "        vertical-align: middle;\n",
       "    }\n",
       "\n",
       "    .dataframe tbody tr th {\n",
       "        vertical-align: top;\n",
       "    }\n",
       "\n",
       "    .dataframe thead th {\n",
       "        text-align: right;\n",
       "    }\n",
       "</style>\n",
       "<table border=\"1\" class=\"dataframe\">\n",
       "  <thead>\n",
       "    <tr style=\"text-align: right;\">\n",
       "      <th></th>\n",
       "      <th>Month</th>\n",
       "      <th>Year</th>\n",
       "      <th>Value</th>\n",
       "      <th>Unit</th>\n",
       "      <th>Region</th>\n",
       "      <th>Segment</th>\n",
       "      <th>_airbyte_raw_id</th>\n",
       "      <th>_airbyte_extracted_at</th>\n",
       "      <th>_airbyte_meta</th>\n",
       "    </tr>\n",
       "  </thead>\n",
       "  <tbody>\n",
       "    <tr>\n",
       "      <th>0</th>\n",
       "      <td>enero</td>\n",
       "      <td>2002</td>\n",
       "      <td>$32.1800</td>\n",
       "      <td>$/Cliente</td>\n",
       "      <td>Baja California</td>\n",
       "      <td>Fijo</td>\n",
       "      <td>69f7e611-27b6-457e-baf6-6101b15754e2</td>\n",
       "      <td>2024-09-05 17:09:23+00:00</td>\n",
       "      <td>{'changes': []}</td>\n",
       "    </tr>\n",
       "    <tr>\n",
       "      <th>1</th>\n",
       "      <td>enero</td>\n",
       "      <td>2002</td>\n",
       "      <td>$1.6280</td>\n",
       "      <td>$/kWh</td>\n",
       "      <td>Baja California</td>\n",
       "      <td>Energía</td>\n",
       "      <td>08950982-cfc6-4b65-920e-9fd47ce9066a</td>\n",
       "      <td>2024-09-05 17:09:23+00:00</td>\n",
       "      <td>{'changes': []}</td>\n",
       "    </tr>\n",
       "    <tr>\n",
       "      <th>2</th>\n",
       "      <td>enero</td>\n",
       "      <td>2002</td>\n",
       "      <td>$1.7910</td>\n",
       "      <td>$/kWh</td>\n",
       "      <td>Baja California</td>\n",
       "      <td>Verano</td>\n",
       "      <td>138045d4-e8e1-4b23-bae8-92b9148f4564</td>\n",
       "      <td>2024-09-05 17:09:23+00:00</td>\n",
       "      <td>{'changes': []}</td>\n",
       "    </tr>\n",
       "    <tr>\n",
       "      <th>3</th>\n",
       "      <td>enero</td>\n",
       "      <td>2002</td>\n",
       "      <td>$32.1800</td>\n",
       "      <td>$/Cliente</td>\n",
       "      <td>Baja California Sur</td>\n",
       "      <td>Fijo</td>\n",
       "      <td>f316855b-8e7d-4a94-a74c-5d67d17804d8</td>\n",
       "      <td>2024-09-05 17:09:23+00:00</td>\n",
       "      <td>{'changes': []}</td>\n",
       "    </tr>\n",
       "    <tr>\n",
       "      <th>4</th>\n",
       "      <td>enero</td>\n",
       "      <td>2002</td>\n",
       "      <td>$1.6280</td>\n",
       "      <td>$/kWh</td>\n",
       "      <td>Baja California Sur</td>\n",
       "      <td>Energía</td>\n",
       "      <td>b2b06c57-a401-4eea-bf8f-f51418bb9534</td>\n",
       "      <td>2024-09-05 17:09:23+00:00</td>\n",
       "      <td>{'changes': []}</td>\n",
       "    </tr>\n",
       "  </tbody>\n",
       "</table>\n",
       "</div>"
      ],
      "text/plain": [
       "   Month  Year     Value       Unit               Region  Segment  \\\n",
       "0  enero  2002  $32.1800  $/Cliente      Baja California     Fijo   \n",
       "1  enero  2002   $1.6280      $/kWh      Baja California  Energía   \n",
       "2  enero  2002   $1.7910      $/kWh      Baja California   Verano   \n",
       "3  enero  2002  $32.1800  $/Cliente  Baja California Sur     Fijo   \n",
       "4  enero  2002   $1.6280      $/kWh  Baja California Sur  Energía   \n",
       "\n",
       "                        _airbyte_raw_id     _airbyte_extracted_at  \\\n",
       "0  69f7e611-27b6-457e-baf6-6101b15754e2 2024-09-05 17:09:23+00:00   \n",
       "1  08950982-cfc6-4b65-920e-9fd47ce9066a 2024-09-05 17:09:23+00:00   \n",
       "2  138045d4-e8e1-4b23-bae8-92b9148f4564 2024-09-05 17:09:23+00:00   \n",
       "3  f316855b-8e7d-4a94-a74c-5d67d17804d8 2024-09-05 17:09:23+00:00   \n",
       "4  b2b06c57-a401-4eea-bf8f-f51418bb9534 2024-09-05 17:09:23+00:00   \n",
       "\n",
       "     _airbyte_meta  \n",
       "0  {'changes': []}  \n",
       "1  {'changes': []}  \n",
       "2  {'changes': []}  \n",
       "3  {'changes': []}  \n",
       "4  {'changes': []}  "
      ]
     },
     "execution_count": 34,
     "metadata": {},
     "output_type": "execute_result"
    }
   ],
   "source": [
    "df_dac.head()"
   ]
  },
  {
   "cell_type": "code",
   "execution_count": 32,
   "metadata": {},
   "outputs": [
    {
     "name": "stdout",
     "output_type": "stream",
     "text": [
      "             Mes   Ano    Valor Unidad      Region Segmento  \\\n",
      "4958  septiembre  2024  $5.4400  $/kWh  Peninsular  Energia   \n",
      "\n",
      "                           _airbyte_raw_id     _airbyte_extracted_at  \\\n",
      "4958  42addb25-9d47-4f1e-9a1c-f19e3c41e522 2024-09-05 17:09:24+00:00   \n",
      "\n",
      "        _airbyte_meta  \n",
      "4958  {'changes': []}  \n"
     ]
    }
   ],
   "source": [
    "# get the last row of the dac table\n",
    "dac_last_row = df_dac.tail(1)\n",
    "print(dac_last_row)"
   ]
  }
 ],
 "metadata": {
  "kernelspec": {
   "display_name": ".venv",
   "language": "python",
   "name": "python3"
  },
  "language_info": {
   "codemirror_mode": {
    "name": "ipython",
    "version": 3
   },
   "file_extension": ".py",
   "mimetype": "text/x-python",
   "name": "python",
   "nbconvert_exporter": "python",
   "pygments_lexer": "ipython3",
   "version": "3.11.6"
  }
 },
 "nbformat": 4,
 "nbformat_minor": 2
}
